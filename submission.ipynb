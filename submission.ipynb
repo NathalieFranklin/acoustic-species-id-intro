{
 "cells": [
  {
   "cell_type": "code",
   "execution_count": 119,
   "id": "5aeb42a1-ecb8-4570-995e-1760f20b8ad2",
   "metadata": {
    "scrolled": false,
    "tags": []
   },
   "outputs": [
    {
     "name": "stdout",
     "output_type": "stream",
     "text": [
      "[Errno 2] No such file or directory: 'Peru_2019_AudioMoth_Data_Full.csv'\n"
     ]
    }
   ],
   "source": [
    "import pandas as pd\n",
    "import csv \n",
    "import random\n",
    "\n",
    "\n",
    "\n",
    "\n",
    "\n",
    "def randomixer(value,file,writer):\n",
    "    \n",
    "    row_list = []\n",
    "    index =0\n",
    "    for row in value:\n",
    "    \n",
    "      random_index =random.choice(value[row])\n",
    "        \n",
    "      for x in file:\n",
    "          \n",
    "          row_list.append(file[x][random_index])\n",
    "        \n",
    "      \n",
    "      if (row_list==[]):\n",
    "        continue\n",
    "      writer.writerow(row_list)\n",
    "      row_list.clear()\n",
    "      index= index +1\n",
    "        \n",
    "    \n",
    "    \n",
    "def stratalizer ():\n",
    "    can_open_file= True \n",
    "   \n",
    "    try:\n",
    "        file = pd.read_csv('Peru_2019_AudioMoth_Data_Full.csv',)\n",
    "       \n",
    "    except FileNotFoundError as e:\n",
    "      \n",
    "        can_open_file= False\n",
    "        return can_open_file\n",
    "    \n",
    "    f = open('stratilized_data.csv', 'w',newline='')\n",
    "    writer = csv.writer(f)\n",
    "    audio_moth_header = []\n",
    "    am_list =[]\n",
    "    row_list = []\n",
    "    dic_times_index={}\n",
    "    index=0\n",
    "    \n",
    "\n",
    "    for row in file:\n",
    "        audio_moth_header.append(row)\n",
    "        writer.writerow(audio_moth_header)\n",
    "    for row in file['AudioMothCode']:\n",
    "       duration = file['Duration'][index]\n",
    "       time= str(file['Comment'][index])[12:14]\n",
    "     \n",
    "       if (time== ''):\n",
    "          index= index +1 \n",
    "          continue\n",
    "       \n",
    "       if (row not in row_list):\n",
    "           \n",
    "            row_list.append(row)\n",
    "            \n",
    "            \n",
    "            if(len(am_list)==24):\n",
    "                randomixer(dic_times_index,file,writer)\n",
    "            dic_times_index ={}\n",
    "            am_list.clear()\n",
    "       if (duration>60.00 and (time not in am_list)):\n",
    "            am_list.append(time)\n",
    "                    \n",
    "                 #dic_index[row]= dic_times_index\n",
    "       if (time not in dic_times_index):\n",
    "           dic_times_index[time]= []\n",
    "      \n",
    "       dic_times_index[time].append(index)           \n",
    "       index = index+1       \n",
    "      \n",
    "          \n",
    "                              \n",
    "      \n",
    "    return can_open_file\n",
    "                                                  \n",
    "#stratalizer()\n",
    "               \n",
    "f.close()  \n",
    "                              "
   ]
  },
  {
   "cell_type": "code",
   "execution_count": null,
   "id": "726b7881-5619-4c48-83c5-37d628a36de1",
   "metadata": {
    "tags": []
   },
   "outputs": [],
   "source": [
    "\n"
   ]
  },
  {
   "cell_type": "code",
   "execution_count": null,
   "id": "d6deadf4-d836-4138-9053-a4fb8864a665",
   "metadata": {},
   "outputs": [],
   "source": []
  },
  {
   "cell_type": "markdown",
   "id": "08d2f3aa-1db6-4cef-8d74-9a615faf104e",
   "metadata": {},
   "source": [
    "## "
   ]
  },
  {
   "cell_type": "code",
   "execution_count": null,
   "id": "4025fbbe-b0bf-46c9-a40b-3ed18751ee43",
   "metadata": {},
   "outputs": [],
   "source": []
  },
  {
   "cell_type": "code",
   "execution_count": null,
   "id": "fb616960-4170-45fc-9d70-a706cd3269af",
   "metadata": {},
   "outputs": [],
   "source": []
  },
  {
   "cell_type": "code",
   "execution_count": null,
   "id": "89ec0e63-5c4f-4149-b00f-4ee71d41f333",
   "metadata": {},
   "outputs": [],
   "source": []
  }
 ],
 "metadata": {
  "kernelspec": {
   "display_name": "Python 3",
   "language": "python",
   "name": "python3"
  },
  "language_info": {
   "codemirror_mode": {
    "name": "ipython",
    "version": 3
   },
   "file_extension": ".py",
   "mimetype": "text/x-python",
   "name": "python",
   "nbconvert_exporter": "python",
   "pygments_lexer": "ipython3",
   "version": "3.8.8"
  }
 },
 "nbformat": 4,
 "nbformat_minor": 5
}
